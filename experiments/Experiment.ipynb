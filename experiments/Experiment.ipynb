{
 "cells": [
  {
   "cell_type": "markdown",
   "metadata": {},
   "source": [
    "# Experiment"
   ]
  },
  {
   "cell_type": "code",
   "execution_count": 2,
   "metadata": {},
   "outputs": [],
   "source": [
    "%load_ext autoreload\n",
    "%autoreload 2\n",
    "\n",
    "import warnings\n",
    "warnings.filterwarnings('ignore')\n",
    "\n",
    "import sys\n",
    "sys.path.append('..')\n",
    "\n",
    "import pandas as pd\n",
    "import numpy as np\n",
    "import os\n",
    "from tqdm import tqdm\n",
    "\n",
    "import definitions\n",
    "from modules.model.classifier import Classifier\n",
    "from modules.model.evaluation import Evaluation\n",
    "from modules.common import Feature"
   ]
  },
  {
   "cell_type": "markdown",
   "metadata": {},
   "source": [
    "## Loading"
   ]
  },
  {
   "cell_type": "code",
   "execution_count": 3,
   "metadata": {
    "scrolled": false
   },
   "outputs": [
    {
     "data": {
      "text/html": [
       "<div>\n",
       "<style scoped>\n",
       "    .dataframe tbody tr th:only-of-type {\n",
       "        vertical-align: middle;\n",
       "    }\n",
       "\n",
       "    .dataframe tbody tr th {\n",
       "        vertical-align: top;\n",
       "    }\n",
       "\n",
       "    .dataframe thead th {\n",
       "        text-align: right;\n",
       "    }\n",
       "</style>\n",
       "<table border=\"1\" class=\"dataframe\">\n",
       "  <thead>\n",
       "    <tr style=\"text-align: right;\">\n",
       "      <th></th>\n",
       "      <th>bookingID</th>\n",
       "      <th>label</th>\n",
       "    </tr>\n",
       "  </thead>\n",
       "  <tbody>\n",
       "    <tr>\n",
       "      <th>0</th>\n",
       "      <td>111669149733</td>\n",
       "      <td>0</td>\n",
       "    </tr>\n",
       "    <tr>\n",
       "      <th>1</th>\n",
       "      <td>335007449205</td>\n",
       "      <td>1</td>\n",
       "    </tr>\n",
       "    <tr>\n",
       "      <th>2</th>\n",
       "      <td>171798691856</td>\n",
       "      <td>0</td>\n",
       "    </tr>\n",
       "    <tr>\n",
       "      <th>3</th>\n",
       "      <td>1520418422900</td>\n",
       "      <td>0</td>\n",
       "    </tr>\n",
       "    <tr>\n",
       "      <th>4</th>\n",
       "      <td>798863917116</td>\n",
       "      <td>0</td>\n",
       "    </tr>\n",
       "  </tbody>\n",
       "</table>\n",
       "</div>"
      ],
      "text/plain": [
       "       bookingID  label\n",
       "0   111669149733      0\n",
       "1   335007449205      1\n",
       "2   171798691856      0\n",
       "3  1520418422900      0\n",
       "4   798863917116      0"
      ]
     },
     "execution_count": 3,
     "metadata": {},
     "output_type": "execute_result"
    }
   ],
   "source": [
    "labels = pd.read_csv(os.path.join(definitions.DATA_LABEL, os.listdir(definitions.DATA_LABEL)[0]))\n",
    "labels.head()"
   ]
  },
  {
   "cell_type": "code",
   "execution_count": 4,
   "metadata": {},
   "outputs": [
    {
     "name": "stdout",
     "output_type": "stream",
     "text": [
      "13 [0 1]\n",
      "154618822837 [1 0]\n",
      "223338299461 [0 1]\n",
      "395136991308 [1 0]\n",
      "403726925929 [0 1]\n",
      "455266533495 [1 0]\n",
      "481036337234 [1 0]\n",
      "515396075694 [0 1]\n",
      "695784702084 [0 1]\n",
      "919123001348 [1 0]\n",
      "970662608932 [0 1]\n",
      "1279900254294 [1 0]\n",
      "1348619731077 [1 0]\n",
      "1391569403991 [0 1]\n",
      "1408749273124 [0 1]\n",
      "1511828488211 [1 0]\n",
      "1632087572573 [1 0]\n",
      "1649267441751 [1 0]\n"
     ]
    }
   ],
   "source": [
    "for key, df in labels.groupby('bookingID'):\n",
    "    if (len(df)>=2):\n",
    "        print(key, df['label'].values)"
   ]
  },
  {
   "cell_type": "code",
   "execution_count": 5,
   "metadata": {},
   "outputs": [
    {
     "data": {
      "text/html": [
       "<div>\n",
       "<style scoped>\n",
       "    .dataframe tbody tr th:only-of-type {\n",
       "        vertical-align: middle;\n",
       "    }\n",
       "\n",
       "    .dataframe tbody tr th {\n",
       "        vertical-align: top;\n",
       "    }\n",
       "\n",
       "    .dataframe thead th {\n",
       "        text-align: right;\n",
       "    }\n",
       "</style>\n",
       "<table border=\"1\" class=\"dataframe\">\n",
       "  <thead>\n",
       "    <tr style=\"text-align: right;\">\n",
       "      <th></th>\n",
       "      <th>bookingID</th>\n",
       "      <th>mean_acceleration_x</th>\n",
       "      <th>mean_acceleration_y</th>\n",
       "      <th>mean_acceleration_z</th>\n",
       "      <th>mean_accuracy</th>\n",
       "      <th>mean_bearing</th>\n",
       "      <th>mean_gyro_x</th>\n",
       "      <th>mean_gyro_y</th>\n",
       "      <th>mean_gyro_z</th>\n",
       "      <th>mean_speed</th>\n",
       "    </tr>\n",
       "  </thead>\n",
       "  <tbody>\n",
       "    <tr>\n",
       "      <th>0</th>\n",
       "      <td>0</td>\n",
       "      <td>-0.711264</td>\n",
       "      <td>-9.613822</td>\n",
       "      <td>-1.619658</td>\n",
       "      <td>10.165339</td>\n",
       "      <td>176.526099</td>\n",
       "      <td>0.003328</td>\n",
       "      <td>-0.006118</td>\n",
       "      <td>-0.004188</td>\n",
       "      <td>8.994822</td>\n",
       "    </tr>\n",
       "    <tr>\n",
       "      <th>1</th>\n",
       "      <td>1</td>\n",
       "      <td>-0.525406</td>\n",
       "      <td>9.532086</td>\n",
       "      <td>-2.198999</td>\n",
       "      <td>3.718763</td>\n",
       "      <td>124.198590</td>\n",
       "      <td>-0.002467</td>\n",
       "      <td>-0.007540</td>\n",
       "      <td>0.000405</td>\n",
       "      <td>7.881588</td>\n",
       "    </tr>\n",
       "    <tr>\n",
       "      <th>2</th>\n",
       "      <td>2</td>\n",
       "      <td>0.306786</td>\n",
       "      <td>9.843183</td>\n",
       "      <td>0.139347</td>\n",
       "      <td>3.930626</td>\n",
       "      <td>173.794872</td>\n",
       "      <td>0.006458</td>\n",
       "      <td>-0.012861</td>\n",
       "      <td>0.002597</td>\n",
       "      <td>3.157213</td>\n",
       "    </tr>\n",
       "    <tr>\n",
       "      <th>3</th>\n",
       "      <td>4</td>\n",
       "      <td>-0.365117</td>\n",
       "      <td>-9.406439</td>\n",
       "      <td>-2.613639</td>\n",
       "      <td>10.000000</td>\n",
       "      <td>151.807013</td>\n",
       "      <td>-0.022884</td>\n",
       "      <td>0.023232</td>\n",
       "      <td>-0.000376</td>\n",
       "      <td>6.150996</td>\n",
       "    </tr>\n",
       "    <tr>\n",
       "      <th>4</th>\n",
       "      <td>6</td>\n",
       "      <td>0.490616</td>\n",
       "      <td>9.538043</td>\n",
       "      <td>2.355059</td>\n",
       "      <td>4.586721</td>\n",
       "      <td>197.812785</td>\n",
       "      <td>0.003877</td>\n",
       "      <td>0.000436</td>\n",
       "      <td>0.002930</td>\n",
       "      <td>4.628921</td>\n",
       "    </tr>\n",
       "  </tbody>\n",
       "</table>\n",
       "</div>"
      ],
      "text/plain": [
       "   bookingID  mean_acceleration_x  mean_acceleration_y  mean_acceleration_z  \\\n",
       "0          0            -0.711264            -9.613822            -1.619658   \n",
       "1          1            -0.525406             9.532086            -2.198999   \n",
       "2          2             0.306786             9.843183             0.139347   \n",
       "3          4            -0.365117            -9.406439            -2.613639   \n",
       "4          6             0.490616             9.538043             2.355059   \n",
       "\n",
       "   mean_accuracy  mean_bearing  mean_gyro_x  mean_gyro_y  mean_gyro_z  \\\n",
       "0      10.165339    176.526099     0.003328    -0.006118    -0.004188   \n",
       "1       3.718763    124.198590    -0.002467    -0.007540     0.000405   \n",
       "2       3.930626    173.794872     0.006458    -0.012861     0.002597   \n",
       "3      10.000000    151.807013    -0.022884     0.023232    -0.000376   \n",
       "4       4.586721    197.812785     0.003877     0.000436     0.002930   \n",
       "\n",
       "   mean_speed  \n",
       "0    8.994822  \n",
       "1    7.881588  \n",
       "2    3.157213  \n",
       "3    6.150996  \n",
       "4    4.628921  "
      ]
     },
     "execution_count": 5,
     "metadata": {},
     "output_type": "execute_result"
    }
   ],
   "source": [
    "data = pd.read_csv(os.path.join(definitions.DATA_AGGREGATED, os.listdir(definitions.DATA_AGGREGATED)[0]))\n",
    "data.head()"
   ]
  },
  {
   "cell_type": "code",
   "execution_count": 6,
   "metadata": {},
   "outputs": [
    {
     "data": {
      "text/html": [
       "<div>\n",
       "<style scoped>\n",
       "    .dataframe tbody tr th:only-of-type {\n",
       "        vertical-align: middle;\n",
       "    }\n",
       "\n",
       "    .dataframe tbody tr th {\n",
       "        vertical-align: top;\n",
       "    }\n",
       "\n",
       "    .dataframe thead th {\n",
       "        text-align: right;\n",
       "    }\n",
       "</style>\n",
       "<table border=\"1\" class=\"dataframe\">\n",
       "  <thead>\n",
       "    <tr style=\"text-align: right;\">\n",
       "      <th></th>\n",
       "      <th>bookingID</th>\n",
       "      <th>mean_acceleration_x</th>\n",
       "      <th>mean_acceleration_y</th>\n",
       "      <th>mean_acceleration_z</th>\n",
       "      <th>mean_accuracy</th>\n",
       "      <th>mean_bearing</th>\n",
       "      <th>mean_gyro_x</th>\n",
       "      <th>mean_gyro_y</th>\n",
       "      <th>mean_gyro_z</th>\n",
       "      <th>mean_speed</th>\n",
       "      <th>label</th>\n",
       "    </tr>\n",
       "  </thead>\n",
       "  <tbody>\n",
       "    <tr>\n",
       "      <th>0</th>\n",
       "      <td>0</td>\n",
       "      <td>-0.711264</td>\n",
       "      <td>-9.613822</td>\n",
       "      <td>-1.619658</td>\n",
       "      <td>10.165339</td>\n",
       "      <td>176.526099</td>\n",
       "      <td>0.003328</td>\n",
       "      <td>-0.006118</td>\n",
       "      <td>-0.004188</td>\n",
       "      <td>8.994822</td>\n",
       "      <td>0</td>\n",
       "    </tr>\n",
       "    <tr>\n",
       "      <th>1</th>\n",
       "      <td>1</td>\n",
       "      <td>-0.525406</td>\n",
       "      <td>9.532086</td>\n",
       "      <td>-2.198999</td>\n",
       "      <td>3.718763</td>\n",
       "      <td>124.198590</td>\n",
       "      <td>-0.002467</td>\n",
       "      <td>-0.007540</td>\n",
       "      <td>0.000405</td>\n",
       "      <td>7.881588</td>\n",
       "      <td>1</td>\n",
       "    </tr>\n",
       "    <tr>\n",
       "      <th>2</th>\n",
       "      <td>2</td>\n",
       "      <td>0.306786</td>\n",
       "      <td>9.843183</td>\n",
       "      <td>0.139347</td>\n",
       "      <td>3.930626</td>\n",
       "      <td>173.794872</td>\n",
       "      <td>0.006458</td>\n",
       "      <td>-0.012861</td>\n",
       "      <td>0.002597</td>\n",
       "      <td>3.157213</td>\n",
       "      <td>1</td>\n",
       "    </tr>\n",
       "    <tr>\n",
       "      <th>3</th>\n",
       "      <td>4</td>\n",
       "      <td>-0.365117</td>\n",
       "      <td>-9.406439</td>\n",
       "      <td>-2.613639</td>\n",
       "      <td>10.000000</td>\n",
       "      <td>151.807013</td>\n",
       "      <td>-0.022884</td>\n",
       "      <td>0.023232</td>\n",
       "      <td>-0.000376</td>\n",
       "      <td>6.150996</td>\n",
       "      <td>1</td>\n",
       "    </tr>\n",
       "    <tr>\n",
       "      <th>4</th>\n",
       "      <td>6</td>\n",
       "      <td>0.490616</td>\n",
       "      <td>9.538043</td>\n",
       "      <td>2.355059</td>\n",
       "      <td>4.586721</td>\n",
       "      <td>197.812785</td>\n",
       "      <td>0.003877</td>\n",
       "      <td>0.000436</td>\n",
       "      <td>0.002930</td>\n",
       "      <td>4.628921</td>\n",
       "      <td>0</td>\n",
       "    </tr>\n",
       "  </tbody>\n",
       "</table>\n",
       "</div>"
      ],
      "text/plain": [
       "   bookingID  mean_acceleration_x  mean_acceleration_y  mean_acceleration_z  \\\n",
       "0          0            -0.711264            -9.613822            -1.619658   \n",
       "1          1            -0.525406             9.532086            -2.198999   \n",
       "2          2             0.306786             9.843183             0.139347   \n",
       "3          4            -0.365117            -9.406439            -2.613639   \n",
       "4          6             0.490616             9.538043             2.355059   \n",
       "\n",
       "   mean_accuracy  mean_bearing  mean_gyro_x  mean_gyro_y  mean_gyro_z  \\\n",
       "0      10.165339    176.526099     0.003328    -0.006118    -0.004188   \n",
       "1       3.718763    124.198590    -0.002467    -0.007540     0.000405   \n",
       "2       3.930626    173.794872     0.006458    -0.012861     0.002597   \n",
       "3      10.000000    151.807013    -0.022884     0.023232    -0.000376   \n",
       "4       4.586721    197.812785     0.003877     0.000436     0.002930   \n",
       "\n",
       "   mean_speed  label  \n",
       "0    8.994822      0  \n",
       "1    7.881588      1  \n",
       "2    3.157213      1  \n",
       "3    6.150996      1  \n",
       "4    4.628921      0  "
      ]
     },
     "execution_count": 6,
     "metadata": {},
     "output_type": "execute_result"
    }
   ],
   "source": [
    "data_complete = pd.merge(data, labels, on=Feature.FEAT_booking_id, suffixes=(False, False)).drop_duplicates(subset='bookingID', keep=False)\n",
    "data_complete.head()"
   ]
  },
  {
   "cell_type": "code",
   "execution_count": 9,
   "metadata": {},
   "outputs": [
    {
     "name": "stdout",
     "output_type": "stream",
     "text": [
      "0 : 14999\n",
      "1 : 4983\n",
      "Total : 19982\n"
     ]
    }
   ],
   "source": [
    "print('0 : ' + str(len(data_complete[data_complete['label']==0])))\n",
    "print('1 : ' + str(len(data_complete[data_complete['label']==1])))\n",
    "print('Total : ' + str(len(data_complete)))"
   ]
  },
  {
   "cell_type": "markdown",
   "metadata": {},
   "source": [
    "## Train"
   ]
  },
  {
   "cell_type": "code",
   "execution_count": 10,
   "metadata": {},
   "outputs": [],
   "source": [
    "X = data_complete.drop('label', axis=1).values\n",
    "y = data_complete['label'].values"
   ]
  },
  {
   "cell_type": "code",
   "execution_count": 12,
   "metadata": {},
   "outputs": [
    {
     "name": "stdout",
     "output_type": "stream",
     "text": [
      "Fold 1: 0.6651823647294589\n",
      "Fold 2: 0.645565798263193\n",
      "Fold 3: 0.6594909819639279\n",
      "Fold 4: 0.6384016064257028\n",
      "Fold 5: 0.6623962516733601\n",
      "Fold 6: 0.6548313253012048\n",
      "Fold 7: 0.6400749665327978\n",
      "Fold 8: 0.6487751004016065\n",
      "Fold 9: 0.6533935742971888\n",
      "Fold 10: 0.6429038368283005\n",
      "MEAN: 0.6511015806416741\n",
      "STDDEV: 0.00943704475399599\n"
     ]
    }
   ],
   "source": [
    "model = Classifier()\n",
    "scores = Evaluation.evaluate(model, X, y)"
   ]
  },
  {
   "cell_type": "code",
   "execution_count": null,
   "metadata": {},
   "outputs": [],
   "source": []
  }
 ],
 "metadata": {
  "kernelspec": {
   "display_name": "Python 3",
   "language": "python",
   "name": "python3"
  },
  "language_info": {
   "codemirror_mode": {
    "name": "ipython",
    "version": 3
   },
   "file_extension": ".py",
   "mimetype": "text/x-python",
   "name": "python",
   "nbconvert_exporter": "python",
   "pygments_lexer": "ipython3",
   "version": "3.6.8"
  }
 },
 "nbformat": 4,
 "nbformat_minor": 2
}
